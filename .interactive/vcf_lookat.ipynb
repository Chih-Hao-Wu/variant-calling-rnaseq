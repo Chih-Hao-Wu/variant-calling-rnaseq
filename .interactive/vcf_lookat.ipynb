{
 "cells": [
  {
   "attachments": {},
   "cell_type": "markdown",
   "metadata": {},
   "source": [
    "### VCF parsing"
   ]
  },
  {
   "cell_type": "code",
   "execution_count": 2,
   "metadata": {},
   "outputs": [],
   "source": [
    "import os\n",
    "import re\n",
    "import pandas as pd\n",
    "import copy\n",
    "import itertools\n",
    "import seaborn as sns"
   ]
  },
  {
   "cell_type": "code",
   "execution_count": 3,
   "metadata": {},
   "outputs": [],
   "source": [
    "pd.options.mode.chained_assignment = None"
   ]
  },
  {
   "cell_type": "code",
   "execution_count": 4,
   "metadata": {},
   "outputs": [],
   "source": [
    "class VariantCalls:\n",
    "\n",
    "    def __init__(self, name):\n",
    "        self.name = name\n",
    "        self._calls = None\n",
    "        self._readable_calls = None\n",
    "\n",
    "    @ property\n",
    "    def calls(self):\n",
    "        return self._calls\n",
    "\n",
    "    @ calls.setter\n",
    "    def calls(self, table):\n",
    "        self._calls = table\n",
    "\n",
    "    @ calls.deleter\n",
    "    def calls(self):\n",
    "        del self._calls\n",
    "\n",
    "    @ property\n",
    "    def readable_calls(self):\n",
    "        return self._readable_calls\n",
    "\n",
    "    def make_readable(self, columns):\n",
    "\n",
    "        table = self._calls\n",
    "\n",
    "        for column in columns:\n",
    "            match column:\n",
    "                case \"FILTER\":\n",
    "                    table = VariantCalls.by_prefiltering(table)\n",
    "                case \"INFO\":\n",
    "                    table = VariantCalls.by_info_column(table)\n",
    "                case \"FORMAT\":\n",
    "                    table = VariantCalls.by_format_column(table)\n",
    "                case _:\n",
    "                    raise ValueError\n",
    "\n",
    "        self._readable_calls = table\n",
    "\n",
    "    @ staticmethod\n",
    "    def by_prefiltering(table: pd.DataFrame, select = \"PASS\") -> pd.DataFrame:\n",
    "        # filter passing variants\n",
    "    \n",
    "        table = table[table.FILTER == select] \n",
    "        table.reset_index(drop=True, inplace=True)\n",
    "\n",
    "        return table\n",
    "\n",
    "    @ staticmethod\n",
    "    def by_info_column(table: pd.DataFrame):\n",
    "        # make INFO column readable; annotation\n",
    "\n",
    "        ANNOTATION_COLUMNS = [\n",
    "                      \"Gencode_34_hugoSymbol\",\n",
    "                      \"Gencode_34_ncbiBuild\",\n",
    "                      \"Gencode_34_chromosome\",\n",
    "                      \"Gencode_34_start\",\n",
    "                      \"Gencode_34_end\",\n",
    "                      \"Gencode_34_variantClassification\",\n",
    "                      \"Gencode_34_secondaryVariantClassification\",\n",
    "                      \"Gencode_34_variantType\"\n",
    "                      ]\n",
    "\n",
    "        col = table.INFO.str.split(';', expand=True)\n",
    "       \n",
    "        info = col.applymap(lambda x: x.split('=')[-1] if x is not None else None)\n",
    "\n",
    "        index_label_row = info.isnull() \\\n",
    "                              .sum(axis=1) \\\n",
    "                              .idxmin()\n",
    "\n",
    "        info.columns = col.iloc[index_label_row,:].apply(lambda x: x.split('=')[0]).to_list()\n",
    "\n",
    "        functional_annotation = info.FUNCOTATION.apply(lambda x: x[1:].split('|')[:8])\n",
    "        functional_annotation = pd.DataFrame.from_records(functional_annotation, columns=ANNOTATION_COLUMNS)\n",
    "        functional_annotation.drop([\"Gencode_34_ncbiBuild\",\"Gencode_34_chromosome\"], axis=1, inplace=True)\n",
    "\n",
    "        info.drop([\"FUNCOTATION\"], axis=1, inplace=True)\n",
    "        \n",
    "        info = pd.concat([info, functional_annotation], axis=1)\n",
    "\n",
    "        table.drop([\"INFO\"], axis=1, inplace=True)\n",
    "        table = pd.concat([table, info], axis=1)\n",
    "       \n",
    "        return table\n",
    "        \n",
    "    @ staticmethod\n",
    "    def by_format_column(table: pd.DataFrame):\n",
    "        # make FORMAT and SAMPLE column readable; counts\n",
    "        \n",
    "        per_variant = []\n",
    "        col = table.columns.get_loc(\"FORMAT\")\n",
    "        feature_columns = range(col, col+3)\n",
    "\n",
    "        format_columns = table.iloc[:, feature_columns].applymap(lambda x: x.split(':'))\n",
    "        label, values = format_columns.iloc[:,0].to_list(), format_columns.iloc[:,1].to_list()\n",
    "\n",
    "        for i in range(table.shape[0]):\n",
    "            per_variant.append(dict(zip(label[i], values[i])))\n",
    "\n",
    "        counts = pd.DataFrame(per_variant)\n",
    "\n",
    "        table.drop(table.columns[feature_columns], axis=1, inplace=True)\n",
    "        table = pd.concat([table, counts], axis=1)\n",
    "\n",
    "        return table\n",
    "\n",
    "    def calculate_variant_allele_frequency(self) -> None:\n",
    "        # variant allele frequency\n",
    "\n",
    "        self._readable_calls[\"VARIANT_ALLELE_FREQ\"] = self._readable_calls.AD.apply(lambda x: VariantCalls.helper_get_vaf(x))\n",
    "  \n",
    "    @ staticmethod\n",
    "    def helper_get_vaf(row: str) -> float:\n",
    "\n",
    "        counts = row.split(',') \n",
    "        ref, alt = [int(i) for i in counts]\n",
    "        \n",
    "        return alt/(ref+alt)"
   ]
  },
  {
   "cell_type": "code",
   "execution_count": 5,
   "metadata": {},
   "outputs": [],
   "source": [
    "class Cohort:\n",
    "\n",
    "    def __init__(self, name, directory):\n",
    "        self.name = name\n",
    "        self.directory = directory\n",
    "        self.cohort_calls = []\n",
    "\n",
    "    def get_cohort_calls(self) -> None:\n",
    "        \n",
    "        variant_call_files = os.listdir(self.directory)\n",
    "        \n",
    "        for file in variant_call_files:\n",
    "            filepath = self.directory + '/' + file\n",
    "            table = Cohort.load_sample_calls(filepath)\n",
    "            \n",
    "            name = re.search(r\"case-\\d+\", file).group()\n",
    "            \n",
    "            _ = VariantCalls(name)\n",
    "            _.calls = table\n",
    "            _.make_readable(columns=[\"FILTER\",\"INFO\",\"FORMAT\"])\n",
    "            _.calculate_variant_allele_frequency()\n",
    "            _.readable_calls\n",
    "\n",
    "            self.cohort_calls.append(_) \n",
    "\n",
    "    @ staticmethod\n",
    "    def load_sample_calls(file) -> pd.DataFrame:\n",
    "\n",
    "        with open (file) as fh:\n",
    "            for i, line in enumerate(fh):\n",
    "                if not line.startswith(\"##\"):\n",
    "                    skip_to_line = i\n",
    "                    break\n",
    "\n",
    "        calls = pd.read_csv(file, sep=\"\\t\", skiprows=skip_to_line)\n",
    "\n",
    "        return calls"
   ]
  },
  {
   "cell_type": "code",
   "execution_count": 6,
   "metadata": {},
   "outputs": [],
   "source": [
    "path = \"/users/wuchh/downloads/updated-calls\"\n",
    "test = Cohort(name=\"PEAC\", directory=\"/users/wuchh/downloads/updated-calls\")\n",
    "test.get_cohort_calls()"
   ]
  },
  {
   "cell_type": "code",
   "execution_count": 7,
   "metadata": {},
   "outputs": [],
   "source": [
    "genes_each = []\n",
    "for i in range(len(test.cohort_calls)):\n",
    "    unique_in_sample = test.cohort_calls[i].readable_calls.Gencode_34_hugoSymbol.unique().tolist()\n",
    "    genes_each.append(unique_in_sample)"
   ]
  },
  {
   "cell_type": "code",
   "execution_count": 8,
   "metadata": {},
   "outputs": [],
   "source": [
    "merged = list(itertools.chain.from_iterable(genes_each))"
   ]
  },
  {
   "cell_type": "code",
   "execution_count": 9,
   "metadata": {},
   "outputs": [],
   "source": [
    "data = pd.Series(merged).value_counts()"
   ]
  },
  {
   "cell_type": "code",
   "execution_count": 14,
   "metadata": {},
   "outputs": [
    {
     "data": {
      "text/plain": [
       "<AxesSubplot: ylabel='Count'>"
      ]
     },
     "execution_count": 14,
     "metadata": {},
     "output_type": "execute_result"
    },
    {
     "data": {
      "image/png": "[encoded data removed]",
      "text/plain": [
       "<Figure size 640x480 with 1 Axes>"
      ]
     },
     "metadata": {},
     "output_type": "display_data"
    }
   ],
   "source": [
    "sns.histplot(data)"
   ]
  },
  {
   "cell_type": "code",
   "execution_count": 20,
   "metadata": {},
   "outputs": [],
   "source": [
    "l = []"
   ]
  },
  {
   "cell_type": "code",
   "execution_count": 21,
   "metadata": {},
   "outputs": [],
   "source": [
    "for f in range(40):\n",
    "    a = test.cohort_calls[f].readable_calls[test.cohort_calls[f].readable_calls.Gencode_34_hugoSymbol == \"MAVS\"].POS\n",
    "    b= a.tolist()\n",
    "\n",
    "    l.append(b)\n",
    "    #if not a.empty:\n",
    "    #    print(a)"
   ]
  },
  {
   "cell_type": "code",
   "execution_count": null,
   "metadata": {},
   "outputs": [],
   "source": [
    "# not the same site, but within an acceptable window size"
   ]
  },
  {
   "cell_type": "code",
   "execution_count": 23,
   "metadata": {},
   "outputs": [],
   "source": [
    "merged = list(itertools.chain.from_iterable(l))"
   ]
  },
  {
   "cell_type": "code",
   "execution_count": 24,
   "metadata": {},
   "outputs": [
    {
     "data": {
      "text/plain": [
       "[3869290,\n",
       " 3870961,\n",
       " 3870574,\n",
       " 3875359,\n",
       " 3871064,\n",
       " 3870985,\n",
       " 3871064,\n",
       " 3871142,\n",
       " 3872291,\n",
       " 3874502,\n",
       " 3867451,\n",
       " 3867481,\n",
       " 3871103,\n",
       " 3869097,\n",
       " 3875197,\n",
       " 3875200,\n",
       " 3875295,\n",
       " 3875359,\n",
       " 3868801,\n",
       " 3873484,\n",
       " 3868519,\n",
       " 3875359,\n",
       " 3873413,\n",
       " 3873459,\n",
       " 3869083,\n",
       " 3871068,\n",
       " 3872413,\n",
       " 3872420,\n",
       " 3873320,\n",
       " 3874502,\n",
       " 3872206,\n",
       " 3873276,\n",
       " 3870567,\n",
       " 3872358,\n",
       " 3870955,\n",
       " 3870985,\n",
       " 3872420,\n",
       " 3875295,\n",
       " 3869840,\n",
       " 3870567,\n",
       " 3871115,\n",
       " 3875197,\n",
       " 3875200,\n",
       " 3875301,\n",
       " 3870961,\n",
       " 3871120,\n",
       " 3872184,\n",
       " 3875295,\n",
       " 3873277,\n",
       " 3875295,\n",
       " 3875335,\n",
       " 3869685,\n",
       " 3869866,\n",
       " 3875197,\n",
       " 3875200,\n",
       " 3872184,\n",
       " 3873459,\n",
       " 3874502,\n",
       " 3875295,\n",
       " 3869814,\n",
       " 3875197,\n",
       " 3875295,\n",
       " 3869052,\n",
       " 3871064,\n",
       " 3869666,\n",
       " 3873324,\n",
       " 3873347,\n",
       " 3875232,\n",
       " 3869866,\n",
       " 3875295,\n",
       " 3870544,\n",
       " 3870567,\n",
       " 3873376,\n",
       " 3875197,\n",
       " 3869785,\n",
       " 3870762,\n",
       " 3871007,\n",
       " 3871010,\n",
       " 3871144,\n",
       " 3875295,\n",
       " 3869734,\n",
       " 3871010,\n",
       " 3872185,\n",
       " 3872207,\n",
       " 3872277,\n",
       " 3871143,\n",
       " 3875232]"
      ]
     },
     "execution_count": 24,
     "metadata": {},
     "output_type": "execute_result"
    }
   ],
   "source": [
    "merged"
   ]
  },
  {
   "cell_type": "code",
   "execution_count": 28,
   "metadata": {},
   "outputs": [
    {
     "data": {
      "text/plain": [
       "<AxesSubplot: >"
      ]
     },
     "execution_count": 28,
     "metadata": {},
     "output_type": "execute_result"
    },
    {
     "data": {
      "image/png": "[encoded data removed]",
      "text/plain": [
       "<Figure size 640x480 with 1 Axes>"
      ]
     },
     "metadata": {},
     "output_type": "display_data"
    }
   ],
   "source": [
    "sns.boxplot(merged, boxprops={'alpha': 0.4})\n",
    "sns.stripplot(merged)\n",
    "# color by sample"
   ]
  },
  {
   "cell_type": "code",
   "execution_count": 27,
   "metadata": {},
   "outputs": [
    {
     "data": {
      "text/plain": [
       "<AxesSubplot: >"
      ]
     },
     "execution_count": 27,
     "metadata": {},
     "output_type": "execute_result"
    },
    {
     "data": {
      "image/png": "[encoded data removed]",
      "text/plain": [
       "<Figure size 640x480 with 1 Axes>"
      ]
     },
     "metadata": {},
     "output_type": "display_data"
    }
   ],
   "source": [
    "sns.stripplot(merged)\n",
    "# color by sample"
   ]
  },
  {
   "cell_type": "code",
   "execution_count": null,
   "metadata": {},
   "outputs": [],
   "source": [
    "# window\n",
    "# chi-square (has or does not have mutation, with category of interest)\n",
    "# regression \n",
    "# dN/dS\n",
    "\n",
    "# underlying assumption that (1) early in RA there has not been sufficent time to acquire mutations (2) exact point mutations are not needed, just overlapping in window (degenerate binding interactions, etc)"
   ]
  }
 ],
 "metadata": {
  "kernelspec": {
   "display_name": ".venv",
   "language": "python",
   "name": "python3"
  },
  "language_info": {
   "codemirror_mode": {
    "name": "ipython",
    "version": 3
   },
   "file_extension": ".py",
   "mimetype": "text/x-python",
   "name": "python",
   "nbconvert_exporter": "python",
   "pygments_lexer": "ipython3",
   "version": "3.10.5"
  },
  "orig_nbformat": 4,
  "vscode": {
   "interpreter": {
    "hash": "b7296e6c6e246bcc8d6ede06a9a8679179c350f09ef309c7728d0e758517e91e"
   }
  }
 },
 "nbformat": 4,
 "nbformat_minor": 2
}
